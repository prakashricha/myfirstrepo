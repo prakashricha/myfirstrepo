{
 "cells": [
  {
   "cell_type": "markdown",
   "metadata": {},
   "source": [
    "# WeatherPy\n",
    "----\n",
    "\n",
    "### Analysis\n",
    "* As expected, the weather becomes significantly warmer as one approaches the equator (0 Deg. Latitude). More interestingly, however, is the fact that the southern hemisphere tends to be warmer this time of year than the northern hemisphere. This may be due to the tilt of the earth.\n",
    "* There is no strong relationship between latitude and cloudiness. However, it is interesting to see that a strong band of cities sits at 0, 80, and 100% cloudiness.\n",
    "* There is no strong relationship between latitude and wind speed. However, in northern hemispheres there is a flurry of cities with over 20 mph of wind.\n",
    "\n",
    "---\n",
    "\n",
    "#### Note\n",
    "* Instructions have been included for each segment. You do not have to follow them exactly, but they are included to help you think through the steps."
   ]
  },
  {
   "cell_type": "code",
   "execution_count": 52,
   "metadata": {
    "scrolled": true
   },
   "outputs": [],
   "source": [
    "# Dependencies and Setup\n",
    "import matplotlib.pyplot as plt\n",
    "import pandas as pd\n",
    "import numpy as np\n",
    "import requests\n",
    "import time\n",
    "\n",
    "# Import API key\n",
    "from api_keys import api_key\n",
    "\n",
    "# Incorporated citipy to determine city based on latitude and longitude\n",
    "from citipy import citipy\n",
    "\n",
    "# Output File (CSV)\n",
    "output_data_file = \"output_data/cities.csv\"\n",
    "\n",
    "# Range of latitudes and longitudes\n",
    "lat_range = (-90, 90)\n",
    "lng_range = (-180, 180)"
   ]
  },
  {
   "cell_type": "markdown",
   "metadata": {},
   "source": [
    "## Generate Cities List"
   ]
  },
  {
   "cell_type": "code",
   "execution_count": 53,
   "metadata": {},
   "outputs": [
    {
     "data": {
      "text/plain": [
       "594"
      ]
     },
     "execution_count": 53,
     "metadata": {},
     "output_type": "execute_result"
    }
   ],
   "source": [
    "# List for holding lat_lngs and cities\n",
    "lat_lngs = []\n",
    "cities = []\n",
    "\n",
    "# Create a set of random lat and lng combinations\n",
    "lats = np.random.uniform(low=-90.000, high=90.000, size=1500)\n",
    "lngs = np.random.uniform(low=-180.000, high=180.000, size=1500)\n",
    "lat_lngs = zip(lats, lngs)\n",
    "\n",
    "# Identify nearest city for each lat, lng combination\n",
    "for lat_lng in lat_lngs:\n",
    "    city = citipy.nearest_city(lat_lng[0], lat_lng[1]).city_name\n",
    "    \n",
    "    # If the city is unique, then add it to a our cities list\n",
    "    if city not in cities:\n",
    "        cities.append(city)\n",
    "\n",
    "# Print the city count to confirm sufficient count\n",
    "len(cities)\n",
    "#print(cities)\n"
   ]
  },
  {
   "cell_type": "code",
   "execution_count": 54,
   "metadata": {},
   "outputs": [],
   "source": [
    "url = \"http://api.openweathermap.org/data/2.5/weather?\"\n",
    "units = \"metric\"\n",
    "\n",
    "# Build partial query URL\n",
    "query_url = f\"{url}appid={api_key}&units={units}&q=\""
   ]
  },
  {
   "cell_type": "code",
   "execution_count": 55,
   "metadata": {},
   "outputs": [
    {
     "name": "stdout",
     "output_type": "stream",
     "text": [
      "http://api.openweathermap.org/data/2.5/weather?appid=a69757a86293d09e93066f2c67bb69cc&units=metric&q=\n"
     ]
    }
   ],
   "source": [
    "print(query_url)"
   ]
  },
  {
   "cell_type": "code",
   "execution_count": 56,
   "metadata": {},
   "outputs": [],
   "source": [
    "response=requests.get(query_url+\"new york\")"
   ]
  },
  {
   "cell_type": "code",
   "execution_count": 57,
   "metadata": {},
   "outputs": [
    {
     "name": "stdout",
     "output_type": "stream",
     "text": [
      "{'coord': {'lon': -73.99, 'lat': 40.73}, 'weather': [{'id': 800, 'main': 'Clear', 'description': 'clear sky', 'icon': '01n'}], 'base': 'stations', 'main': {'temp': 4.88, 'pressure': 1019, 'humidity': 54, 'temp_min': 2.2, 'temp_max': 5.6}, 'visibility': 16093, 'wind': {'speed': 1.69, 'deg': 208}, 'clouds': {'all': 1}, 'dt': 1545606900, 'sys': {'type': 1, 'id': 4686, 'message': 0.0086, 'country': 'US', 'sunrise': 1545567475, 'sunset': 1545600799}, 'id': 5128581, 'name': 'New York', 'cod': 200}\n"
     ]
    }
   ],
   "source": [
    "json=response.json()\n",
    "print(json)"
   ]
  },
  {
   "cell_type": "code",
   "execution_count": 58,
   "metadata": {},
   "outputs": [],
   "source": [
    "temp=json[\"main\"][\"temp\"]\n",
    "temp1=json[\"main\"][\"humidity\"]\n",
    "temp3=json['wind'][\"speed\"]\n",
    "temp4=json[\"clouds\"][\"all\"]"
   ]
  },
  {
   "cell_type": "code",
   "execution_count": 59,
   "metadata": {},
   "outputs": [
    {
     "data": {
      "text/plain": [
       "dict_keys(['coord', 'weather', 'base', 'main', 'visibility', 'wind', 'clouds', 'dt', 'sys', 'id', 'name', 'cod'])"
      ]
     },
     "execution_count": 59,
     "metadata": {},
     "output_type": "execute_result"
    }
   ],
   "source": [
    "json.keys()"
   ]
  },
  {
   "cell_type": "code",
   "execution_count": null,
   "metadata": {},
   "outputs": [],
   "source": []
  },
  {
   "cell_type": "markdown",
   "metadata": {},
   "source": [
    "### Perform API Calls\n",
    "* Perform a weather check on each city using a series of successive API calls.\n",
    "* Include a print log of each city as it'sbeing processed (with the city number and city name).\n"
   ]
  },
  {
   "cell_type": "code",
   "execution_count": 81,
   "metadata": {},
   "outputs": [
    {
     "name": "stdout",
     "output_type": "stream",
     "text": [
      "city not found\n",
      "counter 2 || agadez\n",
      "counter 3 || san quintin\n",
      "counter 4 || mataura\n",
      "counter 5 || mizan teferi\n",
      "counter 6 || qaanaaq\n",
      "counter 7 || snizhne\n",
      "counter 8 || beloha\n",
      "counter 9 || maldonado\n",
      "counter 10 || marzuq\n",
      "counter 11 || kikwit\n",
      "counter 12 || castro\n",
      "counter 13 || kodiak\n",
      "counter 14 || luderitz\n",
      "counter 15 || puerto escondido\n",
      "city not found\n",
      "counter 17 || airai\n",
      "counter 18 || albany\n",
      "city not found\n",
      "counter 20 || nanortalik\n",
      "counter 21 || camabatela\n",
      "counter 22 || barrow\n",
      "counter 23 || vanimo\n",
      "counter 24 || batticaloa\n",
      "counter 25 || tasiilaq\n",
      "counter 26 || iberia\n",
      "counter 27 || manadhoo\n",
      "counter 28 || vaini\n",
      "counter 29 || lagos\n",
      "counter 30 || ancud\n",
      "counter 31 || sitka\n",
      "counter 32 || puerto ayora\n",
      "counter 33 || new norfolk\n",
      "counter 34 || casablanca\n",
      "counter 35 || rikitea\n",
      "counter 36 || bomet\n",
      "counter 37 || punta arenas\n",
      "counter 38 || valparaiso\n",
      "counter 39 || ushuaia\n",
      "city not found\n",
      "counter 41 || viedma\n",
      "counter 42 || kalengwa\n",
      "counter 43 || atuona\n",
      "counter 44 || san policarpo\n",
      "counter 45 || quatre cocos\n",
      "counter 46 || kapaa\n",
      "counter 47 || aquiraz\n",
      "counter 48 || praia da vitoria\n",
      "counter 49 || dhidhdhoo\n",
      "counter 50 || kyaikkami\n",
      "counter 51 || norman wells\n",
      "counter 52 || nemuro\n",
      "counter 53 || hobart\n",
      "counter 54 || tiksi\n",
      "counter 55 || wajir\n",
      "counter 56 || simpang empat\n",
      "counter 57 || dikson\n",
      "counter 58 || krasnoborsk\n",
      "counter 59 || ostrovnoy\n",
      "counter 60 || havelock\n",
      "city not found\n",
      "counter 62 || hermanus\n",
      "counter 63 || jamestown\n",
      "counter 64 || bredasdorp\n",
      "counter 65 || edd\n",
      "counter 66 || yellowknife\n",
      "city not found\n",
      "counter 68 || komsomolskiy\n",
      "counter 69 || port alfred\n",
      "counter 70 || talnakh\n",
      "counter 71 || torbay\n",
      "counter 72 || kieta\n",
      "counter 73 || eskil\n",
      "counter 74 || mecca\n",
      "counter 75 || porto empedocle\n",
      "counter 76 || mastic beach\n",
      "city not found\n",
      "counter 78 || marquette\n",
      "counter 79 || rincon\n",
      "counter 80 || busselton\n",
      "counter 81 || ilulissat\n",
      "counter 82 || koslan\n",
      "counter 83 || stendal\n",
      "counter 84 || tomatlan\n",
      "counter 85 || vagamo\n",
      "counter 86 || leh\n",
      "counter 87 || isangel\n",
      "counter 88 || saint george\n",
      "city not found\n",
      "counter 90 || port elizabeth\n",
      "city not found\n",
      "counter 92 || sakaiminato\n",
      "counter 93 || porto novo\n",
      "counter 94 || okhotsk\n",
      "counter 95 || ribeira grande\n",
      "counter 96 || maningrida\n",
      "counter 97 || chuy\n",
      "counter 98 || hithadhoo\n",
      "counter 99 || kibre mengist\n",
      "city not found\n",
      "counter 101 || kissidougou\n",
      "counter 102 || namtsy\n",
      "counter 103 || broome\n",
      "counter 104 || lasa\n",
      "counter 105 || bluff\n",
      "counter 106 || cabo san lucas\n",
      "counter 107 || hasaki\n",
      "counter 108 || najran\n",
      "counter 109 || monterey\n",
      "counter 110 || san patricio\n",
      "counter 111 || aklavik\n",
      "counter 112 || burnie\n",
      "counter 113 || hilo\n",
      "counter 114 || thompson\n",
      "counter 115 || grand gaube\n",
      "counter 116 || nouakchott\n",
      "counter 117 || butaritari\n",
      "counter 118 || salalah\n",
      "counter 119 || upernavik\n",
      "city not found\n",
      "counter 121 || khatanga\n",
      "counter 122 || cuamba\n",
      "counter 123 || reforma\n",
      "counter 124 || farafangana\n",
      "counter 125 || port blair\n",
      "counter 126 || keti bandar\n",
      "counter 127 || saint-philippe\n",
      "counter 128 || saskylakh\n",
      "counter 129 || kruisfontein\n",
      "counter 130 || mahebourg\n",
      "counter 131 || kavieng\n",
      "counter 132 || sabang\n",
      "counter 133 || marawi\n",
      "counter 134 || abnub\n",
      "counter 135 || fertod\n",
      "counter 136 || avarua\n",
      "counter 137 || east london\n",
      "counter 138 || pisco\n",
      "counter 139 || faanui\n",
      "counter 140 || kirkwood\n",
      "counter 141 || guerrero negro\n",
      "counter 142 || necochea\n",
      "counter 143 || okha\n",
      "counter 144 || mocuba\n",
      "counter 145 || cedartown\n",
      "counter 146 || caravelas\n",
      "counter 147 || victoria\n",
      "counter 148 || kahului\n",
      "counter 149 || sioux lookout\n",
      "counter 150 || vila franca do campo\n",
      "counter 151 || laguna\n",
      "counter 152 || sola\n",
      "counter 153 || iracoubo\n",
      "counter 154 || quelimane\n",
      "counter 155 || provideniya\n",
      "counter 156 || bequimao\n",
      "counter 157 || dandong\n",
      "counter 158 || atambua\n",
      "counter 159 || bud\n",
      "counter 160 || lebu\n",
      "counter 161 || west wendover\n",
      "counter 162 || khombole\n",
      "city not found\n",
      "counter 164 || iguape\n",
      "counter 165 || melegnano\n",
      "counter 166 || kasongo-lunda\n",
      "counter 167 || san luis\n",
      "counter 168 || bolobo\n",
      "counter 169 || hami\n",
      "counter 170 || port moresby\n",
      "city not found\n",
      "counter 172 || abu kamal\n",
      "counter 173 || killybegs\n",
      "counter 174 || pozo colorado\n",
      "counter 175 || souillac\n",
      "counter 176 || razole\n",
      "counter 177 || bethel\n",
      "counter 178 || rutland\n",
      "counter 179 || nikolskoye\n",
      "counter 180 || nouadhibou\n",
      "counter 181 || taguatinga\n",
      "counter 182 || gamboma\n",
      "counter 183 || huarmey\n",
      "counter 184 || santa cruz\n",
      "counter 185 || mitsamiouli\n",
      "counter 186 || srednekolymsk\n",
      "counter 187 || longyearbyen\n",
      "counter 188 || bukama\n",
      "counter 189 || pontes e lacerda\n",
      "counter 190 || rio cuarto\n",
      "counter 191 || kintampo\n",
      "counter 192 || zemlyansk\n",
      "counter 193 || coahuayana\n",
      "counter 194 || toamasina\n",
      "counter 195 || katsuura\n",
      "city not found\n",
      "counter 197 || maniitsoq\n",
      "counter 198 || coquimbo\n",
      "counter 199 || saldanha\n",
      "counter 200 || moyobamba\n",
      "counter 201 || cape town\n",
      "counter 202 || banjar\n",
      "counter 203 || cidreira\n",
      "counter 204 || riyadh\n",
      "counter 205 || leshukonskoye\n",
      "city not found\n",
      "counter 207 || paita\n",
      "counter 208 || emerald\n",
      "counter 209 || tura\n",
      "city not found\n",
      "counter 211 || camacha\n",
      "counter 212 || lompoc\n",
      "counter 213 || alice springs\n",
      "counter 214 || peniche\n",
      "counter 215 || port hedland\n",
      "counter 216 || olinda\n",
      "counter 217 || dingle\n",
      "counter 218 || rawson\n",
      "counter 219 || herat\n",
      "counter 220 || arraial do cabo\n",
      "counter 221 || port lincoln\n",
      "counter 222 || saint-denis\n",
      "counter 223 || walvis bay\n",
      "counter 224 || choix\n",
      "counter 225 || bilma\n",
      "counter 226 || ambilobe\n",
      "counter 227 || atbasar\n",
      "counter 228 || poum\n",
      "counter 229 || henties bay\n",
      "counter 230 || mar del plata\n",
      "counter 231 || pevek\n",
      "counter 232 || makurdi\n",
      "counter 233 || waingapu\n",
      "counter 234 || georgetown\n",
      "counter 235 || marfino\n",
      "counter 236 || damara\n",
      "counter 237 || aswan\n",
      "counter 238 || tuatapere\n",
      "city not found\n",
      "city not found\n",
      "counter 241 || plouzane\n",
      "counter 242 || mabaruma\n",
      "counter 243 || zheleznodorozhnyy\n",
      "counter 244 || cap malheureux\n",
      "counter 245 || grindavik\n",
      "counter 246 || lady frere\n",
      "counter 247 || kamir\n",
      "counter 248 || samarai\n",
      "counter 249 || gabriel leyva solano\n",
      "counter 250 || yinchuan\n",
      "counter 251 || saint-francois\n",
      "counter 252 || dhamrai\n",
      "counter 253 || kalat\n",
      "counter 254 || buchanan\n",
      "counter 255 || prado\n",
      "counter 256 || sao filipe\n",
      "city not found\n",
      "counter 258 || gillette\n",
      "counter 259 || kaitangata\n",
      "counter 260 || muros\n",
      "counter 261 || shingu\n",
      "counter 262 || bubaque\n",
      "counter 263 || lata\n",
      "counter 264 || dovbysh\n",
      "counter 265 || severo-kurilsk\n",
      "counter 266 || hay river\n",
      "counter 267 || pimentel\n",
      "counter 268 || tautira\n",
      "city not found\n",
      "counter 270 || ust-kuyga\n",
      "counter 271 || lerwick\n",
      "counter 272 || santa isabel do rio negro\n",
      "counter 273 || ponta do sol\n",
      "city not found\n",
      "counter 275 || batagay-alyta\n",
      "counter 276 || lively\n",
      "counter 277 || brae\n",
      "counter 278 || cherskiy\n",
      "counter 279 || bar harbor\n",
      "counter 280 || codrington\n",
      "counter 281 || kyrylivka\n",
      "counter 282 || porto velho\n",
      "city not found\n",
      "counter 284 || kropotkin\n",
      "city not found\n",
      "counter 286 || ban phai\n",
      "counter 287 || carnarvon\n",
      "counter 288 || sao joao da barra\n",
      "counter 289 || pierre\n",
      "city not found\n",
      "counter 291 || marrakesh\n",
      "counter 292 || zhuhai\n",
      "city not found\n",
      "counter 294 || kuching\n",
      "counter 295 || labuhan\n",
      "city not found\n",
      "city not found\n",
      "counter 298 || chapais\n",
      "counter 299 || college place\n",
      "counter 300 || dharchula\n",
      "counter 301 || uvinza\n",
      "counter 302 || sal rei\n",
      "counter 303 || fortuna\n",
      "counter 304 || karymskoye\n",
      "counter 305 || krynychky\n",
      "counter 306 || bara\n",
      "counter 307 || gat\n",
      "counter 308 || huilong\n",
      "city not found\n",
      "counter 310 || shimoda\n",
      "counter 311 || gambela\n",
      "counter 312 || katangli\n",
      "counter 313 || richards bay\n",
      "counter 314 || piacabucu\n",
      "counter 315 || yulara\n",
      "city not found\n",
      "counter 317 || newala\n",
      "counter 318 || takoradi\n",
      "counter 319 || kayerkan\n",
      "counter 320 || kununurra\n",
      "counter 321 || tiebissou\n",
      "counter 322 || moerai\n",
      "counter 323 || pathein\n",
      "counter 324 || ribeirao bonito\n",
      "counter 325 || sambava\n",
      "city not found\n",
      "counter 327 || pochutla\n",
      "counter 328 || port stanley\n",
      "counter 329 || hamilton\n",
      "counter 330 || chokurdakh\n",
      "city not found\n",
      "counter 332 || nizhniy odes\n",
      "counter 333 || vanderhoof\n",
      "counter 334 || manokwari\n",
      "counter 335 || kangaatsiaq\n",
      "counter 336 || zhangye\n",
      "city not found\n",
      "counter 338 || nampula\n",
      "counter 339 || tamiahua\n",
      "counter 340 || kavaratti\n",
      "counter 341 || ryotsu\n",
      "counter 342 || tuktoyaktuk\n",
      "counter 343 || taltal\n",
      "counter 344 || saint-leu\n",
      "counter 345 || mount gambier\n",
      "counter 346 || chino valley\n",
      "counter 347 || port-cartier\n",
      "counter 348 || tondano\n",
      "counter 349 || kalmunai\n",
      "city not found\n",
      "counter 351 || sterling\n",
      "counter 352 || lorengau\n",
      "counter 353 || minuri\n"
     ]
    },
    {
     "name": "stdout",
     "output_type": "stream",
     "text": [
      "counter 354 || tagbac\n",
      "counter 355 || nome\n",
      "counter 356 || saint-joseph\n",
      "counter 357 || luis correia\n",
      "counter 358 || touros\n",
      "counter 359 || saint-pierre\n",
      "counter 360 || kingaroy\n",
      "city not found\n",
      "counter 362 || santa rosa\n",
      "counter 363 || padang\n",
      "counter 364 || caudry\n",
      "counter 365 || mandalgovi\n",
      "counter 366 || college\n",
      "counter 367 || kawalu\n",
      "counter 368 || aviles\n",
      "counter 369 || isabela\n",
      "city not found\n",
      "counter 371 || bambous virieux\n",
      "counter 372 || kanniyakumari\n",
      "counter 373 || bathsheba\n",
      "counter 374 || barcelos\n",
      "city not found\n",
      "counter 376 || plettenberg bay\n",
      "counter 377 || biltine\n",
      "counter 378 || itoman\n",
      "counter 379 || los llanos de aridane\n",
      "counter 380 || bereda\n",
      "counter 381 || honningsvag\n",
      "counter 382 || esperance\n",
      "counter 383 || obihiro\n",
      "counter 384 || gombong\n",
      "counter 385 || inyonga\n",
      "counter 386 || clyde river\n",
      "counter 387 || armidale\n",
      "counter 388 || jishou\n",
      "counter 389 || ashcroft\n",
      "counter 390 || guanica\n",
      "counter 391 || teya\n",
      "counter 392 || north bend\n",
      "counter 393 || berlevag\n",
      "counter 394 || kidal\n",
      "counter 395 || coripata\n",
      "counter 396 || meulaboh\n",
      "counter 397 || napasar\n",
      "counter 398 || lodja\n",
      "counter 399 || machico\n",
      "counter 400 || uglovskoye\n",
      "counter 401 || cartagena\n",
      "counter 402 || vallenar\n",
      "counter 403 || umm lajj\n",
      "counter 404 || nichinan\n",
      "counter 405 || lipari\n",
      "counter 406 || pringsewu\n",
      "counter 407 || christchurch\n",
      "city not found\n",
      "counter 409 || hokitika\n",
      "city not found\n",
      "counter 411 || basco\n",
      "city not found\n",
      "counter 413 || tobermory\n",
      "counter 414 || alofi\n",
      "counter 415 || nadvoitsy\n",
      "counter 416 || qingyuan\n",
      "counter 417 || nassjo\n",
      "counter 418 || ibra\n",
      "counter 419 || hermsdorf\n",
      "counter 420 || ewo\n",
      "counter 421 || tual\n",
      "counter 422 || popondetta\n",
      "counter 423 || bagotville\n",
      "counter 424 || malayal\n",
      "counter 425 || naqadeh\n",
      "counter 426 || temir\n",
      "counter 427 || san pedro\n",
      "counter 428 || husavik\n",
      "counter 429 || berea\n",
      "counter 430 || ujjain\n",
      "counter 431 || fairbanks\n",
      "counter 432 || mira\n",
      "counter 433 || mildura\n",
      "counter 434 || port shepstone\n",
      "counter 435 || chute-aux-outardes\n",
      "counter 436 || west university place\n",
      "counter 437 || victor harbor\n",
      "counter 438 || bonavista\n",
      "counter 439 || wuwei\n",
      "counter 440 || flinders\n",
      "counter 441 || hirado\n",
      "counter 442 || camopi\n",
      "counter 443 || bressanone\n",
      "counter 444 || lyuban\n",
      "counter 445 || lisakovsk\n",
      "counter 446 || vila velha\n",
      "counter 447 || zaigrayevo\n",
      "counter 448 || aasiaat\n",
      "counter 449 || pitanga\n",
      "counter 450 || adrar\n",
      "counter 451 || lemgo\n",
      "counter 452 || ebebiyin\n",
      "counter 453 || vao\n",
      "counter 454 || san felipe\n",
      "counter 455 || khor\n",
      "counter 456 || sistranda\n",
      "counter 457 || egvekinot\n",
      "counter 458 || emmett\n",
      "counter 459 || aykhal\n",
      "counter 460 || tiarei\n",
      "counter 461 || lyubim\n",
      "city not found\n",
      "counter 463 || shepsi\n",
      "counter 464 || labuan\n",
      "counter 465 || aksu\n",
      "counter 466 || lavrentiya\n",
      "counter 467 || vardo\n",
      "counter 468 || cockburn town\n",
      "counter 469 || braunfels\n",
      "counter 470 || roebourne\n",
      "counter 471 || sparks\n",
      "counter 472 || safranbolu\n",
      "counter 473 || birao\n",
      "counter 474 || columbia\n",
      "counter 475 || balsas\n",
      "counter 476 || abu dhabi\n",
      "counter 477 || feijo\n",
      "counter 478 || salym\n",
      "counter 479 || la palma\n",
      "counter 480 || rovaniemi\n",
      "counter 481 || murchison\n",
      "counter 482 || puerto el triunfo\n",
      "city not found\n",
      "counter 484 || verkhnevilyuysk\n",
      "counter 485 || hambantota\n",
      "counter 486 || baruun-urt\n",
      "counter 487 || itaperucu\n",
      "counter 488 || zhigalovo\n",
      "city not found\n",
      "counter 490 || narsaq\n",
      "counter 491 || jieshou\n",
      "counter 492 || linxia\n",
      "city not found\n",
      "counter 494 || naze\n",
      "counter 495 || ilo\n",
      "city not found\n",
      "counter 497 || mbandaka\n",
      "city not found\n",
      "counter 499 || fort nelson\n",
      "counter 500 || torrox\n",
      "counter 501 || prince rupert\n",
      "counter 502 || le port\n",
      "counter 503 || parakou\n",
      "counter 504 || kirkkonummi\n",
      "counter 505 || tromso\n",
      "counter 506 || karasjok\n",
      "counter 507 || namibe\n",
      "counter 508 || kemise\n",
      "counter 509 || ahipara\n",
      "counter 510 || digha\n",
      "counter 511 || kuji\n",
      "counter 512 || northam\n",
      "counter 513 || coruripe\n",
      "counter 514 || pandan\n",
      "counter 515 || puerto rondon\n",
      "counter 516 || marchena\n",
      "counter 517 || wonthaggi\n",
      "counter 518 || yakeshi\n",
      "counter 519 || tessalit\n",
      "counter 520 || uray\n",
      "counter 521 || payo\n",
      "counter 522 || khorramshahr\n",
      "counter 523 || hovd\n",
      "counter 524 || dunedin\n",
      "counter 525 || tucuman\n",
      "counter 526 || mogadishu\n",
      "counter 527 || halifax\n",
      "counter 528 || port-gentil\n",
      "counter 529 || kysyl-syr\n",
      "counter 530 || oswego\n",
      "city not found\n",
      "counter 532 || brzesko\n",
      "counter 533 || raymond\n",
      "counter 534 || geraldton\n",
      "counter 535 || masunga\n",
      "counter 536 || jizan\n",
      "counter 537 || zhigansk\n",
      "counter 538 || luba\n",
      "counter 539 || matay\n",
      "counter 540 || buenavista\n",
      "city not found\n",
      "counter 542 || constitucion\n",
      "counter 543 || saint-augustin\n",
      "counter 544 || changji\n",
      "counter 545 || hays\n",
      "counter 546 || almas\n",
      "city not found\n",
      "counter 548 || kenai\n",
      "counter 549 || vitre\n",
      "counter 550 || ishigaki\n",
      "counter 551 || sao francisco\n",
      "counter 552 || kushikino\n",
      "counter 553 || acari\n",
      "city not found\n",
      "counter 555 || dolores\n",
      "counter 556 || mapimi\n",
      "counter 557 || tinyahuarco\n",
      "counter 558 || candido mendes\n",
      "counter 559 || dubbo\n",
      "city not found\n",
      "counter 561 || fort payne\n",
      "counter 562 || chumikan\n",
      "counter 563 || auki\n",
      "counter 564 || xichang\n",
      "counter 565 || dolzhanskaya\n",
      "counter 566 || salisbury\n",
      "counter 567 || araouane\n",
      "counter 568 || gamba\n",
      "counter 569 || cotonou\n",
      "counter 570 || redding\n",
      "counter 571 || lubango\n",
      "counter 572 || vestmannaeyjar\n",
      "city not found\n",
      "counter 574 || bloomfield\n",
      "counter 575 || biu\n"
     ]
    }
   ],
   "source": [
    "# appending data in the data list for all the cities in json file \n",
    "data=[]\n",
    "i=0\n",
    "for city in cities[:575]:\n",
    "    \n",
    "#    print(city)\n",
    "    json = requests.get(query_url + city).json()\n",
    "    \n",
    "    i=i+1\n",
    "    try:\n",
    "        tempmax=json[\"main\"]['temp_max']\n",
    "        humidity=json[\"main\"][\"humidity\"]\n",
    "        speed=json['wind'][\"speed\"]\n",
    "        cloudiness=json[\"clouds\"][\"all\"]\n",
    "        lat=json[\"coord\"][\"lat\"]\n",
    "        country=json['sys'][\"country\"]\n",
    "        date=json['dt']\n",
    "        lon=json[\"coord\"][\"lon\"]\n",
    "        data.append([city,cloudiness,country,date,humidity,lat,lon,tempmax,speed])\n",
    "#        data.append([city,temp,temp1,temp2,temp3,temp6,temp4,temp5,temp7])\n",
    "        print(f\"counter {i} || {city}\")\n",
    "        time.sleep(.1)\n",
    "    except:\n",
    "        print(\"city not found\")\n",
    "\n",
    "    "
   ]
  },
  {
   "cell_type": "markdown",
   "metadata": {},
   "source": [
    "### Convert Raw Data to DataFrame\n",
    "* Export the city data into a .csv.\n",
    "* Display the DataFrame"
   ]
  },
  {
   "cell_type": "code",
   "execution_count": 82,
   "metadata": {},
   "outputs": [
    {
     "data": {
      "text/html": [
       "<div>\n",
       "<style scoped>\n",
       "    .dataframe tbody tr th:only-of-type {\n",
       "        vertical-align: middle;\n",
       "    }\n",
       "\n",
       "    .dataframe tbody tr th {\n",
       "        vertical-align: top;\n",
       "    }\n",
       "\n",
       "    .dataframe thead th {\n",
       "        text-align: right;\n",
       "    }\n",
       "</style>\n",
       "<table border=\"1\" class=\"dataframe\">\n",
       "  <thead>\n",
       "    <tr style=\"text-align: right;\">\n",
       "      <th></th>\n",
       "      <th>City</th>\n",
       "      <th>Cloudiness</th>\n",
       "      <th>Country</th>\n",
       "      <th>Date</th>\n",
       "      <th>Humidity</th>\n",
       "      <th>Lat</th>\n",
       "      <th>Lng</th>\n",
       "      <th>Max Temp</th>\n",
       "      <th>Wind Speed</th>\n",
       "    </tr>\n",
       "  </thead>\n",
       "  <tbody>\n",
       "    <tr>\n",
       "      <th>0</th>\n",
       "      <td>agadez</td>\n",
       "      <td>0</td>\n",
       "      <td>NE</td>\n",
       "      <td>1545614693</td>\n",
       "      <td>57</td>\n",
       "      <td>16.97</td>\n",
       "      <td>7.99</td>\n",
       "      <td>11.89</td>\n",
       "      <td>4.14</td>\n",
       "    </tr>\n",
       "    <tr>\n",
       "      <th>1</th>\n",
       "      <td>san quintin</td>\n",
       "      <td>100</td>\n",
       "      <td>PH</td>\n",
       "      <td>1545614693</td>\n",
       "      <td>74</td>\n",
       "      <td>17.54</td>\n",
       "      <td>120.52</td>\n",
       "      <td>24.14</td>\n",
       "      <td>1.94</td>\n",
       "    </tr>\n",
       "    <tr>\n",
       "      <th>2</th>\n",
       "      <td>mataura</td>\n",
       "      <td>0</td>\n",
       "      <td>NZ</td>\n",
       "      <td>1545614693</td>\n",
       "      <td>64</td>\n",
       "      <td>-46.19</td>\n",
       "      <td>168.86</td>\n",
       "      <td>20.21</td>\n",
       "      <td>2.01</td>\n",
       "    </tr>\n",
       "    <tr>\n",
       "      <th>3</th>\n",
       "      <td>mizan teferi</td>\n",
       "      <td>36</td>\n",
       "      <td>ET</td>\n",
       "      <td>1545614433</td>\n",
       "      <td>77</td>\n",
       "      <td>6.99</td>\n",
       "      <td>35.58</td>\n",
       "      <td>15.14</td>\n",
       "      <td>1.21</td>\n",
       "    </tr>\n",
       "    <tr>\n",
       "      <th>4</th>\n",
       "      <td>qaanaaq</td>\n",
       "      <td>68</td>\n",
       "      <td>GL</td>\n",
       "      <td>1545614433</td>\n",
       "      <td>91</td>\n",
       "      <td>77.48</td>\n",
       "      <td>-69.36</td>\n",
       "      <td>-20.44</td>\n",
       "      <td>3.09</td>\n",
       "    </tr>\n",
       "  </tbody>\n",
       "</table>\n",
       "</div>"
      ],
      "text/plain": [
       "           City  Cloudiness Country        Date  Humidity    Lat     Lng  \\\n",
       "0        agadez           0      NE  1545614693        57  16.97    7.99   \n",
       "1   san quintin         100      PH  1545614693        74  17.54  120.52   \n",
       "2       mataura           0      NZ  1545614693        64 -46.19  168.86   \n",
       "3  mizan teferi          36      ET  1545614433        77   6.99   35.58   \n",
       "4       qaanaaq          68      GL  1545614433        91  77.48  -69.36   \n",
       "\n",
       "   Max Temp  Wind Speed  \n",
       "0     11.89        4.14  \n",
       "1     24.14        1.94  \n",
       "2     20.21        2.01  \n",
       "3     15.14        1.21  \n",
       "4    -20.44        3.09  "
      ]
     },
     "execution_count": 82,
     "metadata": {},
     "output_type": "execute_result"
    }
   ],
   "source": [
    "# Creating data frame \n",
    "data_df=pd.DataFrame(data,columns=[\"City\",\"Cloudiness\",\"Country\", \"Date\",\"Humidity\",\"Lat\",\"Lng\",\"Max Temp\",\"Wind Speed\"])\n",
    "data_df.head()"
   ]
  },
  {
   "cell_type": "code",
   "execution_count": 83,
   "metadata": {},
   "outputs": [
    {
     "data": {
      "text/plain": [
       "City          524\n",
       "Cloudiness    524\n",
       "Country       524\n",
       "Date          524\n",
       "Humidity      524\n",
       "Lat           524\n",
       "Lng           524\n",
       "Max Temp      524\n",
       "Wind Speed    524\n",
       "dtype: int64"
      ]
     },
     "execution_count": 83,
     "metadata": {},
     "output_type": "execute_result"
    }
   ],
   "source": [
    "#displaying how many cities data we go in Data Frame\n",
    "data_df.count()"
   ]
  },
  {
   "cell_type": "code",
   "execution_count": 84,
   "metadata": {},
   "outputs": [
    {
     "data": {
      "text/plain": [
       "'23/12/2018'"
      ]
     },
     "execution_count": 84,
     "metadata": {},
     "output_type": "execute_result"
    }
   ],
   "source": [
    "#getting current date \n",
    "date=time.strftime(\"%d/%m/%Y\")\n",
    "date"
   ]
  },
  {
   "cell_type": "markdown",
   "metadata": {},
   "source": [
    "### Plotting the Data\n",
    "* Use proper labeling of the plots using plot titles (including date of analysis) and axes labels.\n",
    "* Save the plotted figures as .pngs."
   ]
  },
  {
   "cell_type": "markdown",
   "metadata": {},
   "source": [
    "#### Latitude vs. Temperature Plot"
   ]
  },
  {
   "cell_type": "code",
   "execution_count": 85,
   "metadata": {},
   "outputs": [
    {
     "data": {
      "text/plain": [
       "Text(0.5,0,'Latitude')"
      ]
     },
     "execution_count": 85,
     "metadata": {},
     "output_type": "execute_result"
    },
    {
     "data": {
      "image/png": "[encoded data removed]",
      "text/plain": [
       "<Figure size 432x288 with 1 Axes>"
      ]
     },
     "metadata": {
      "needs_background": "light"
     },
     "output_type": "display_data"
    }
   ],
   "source": [
    "plt.scatter(data_df[\"Lat\"],data_df[\"Max Temp\"],c=\"lightblue\",edgecolor='black')\n",
    "plt.title(f\"City Latitude vs Max Temperature ({date})\")\n",
    "plt.ylabel(\"Max Temprature (F)\")\n",
    "plt.xlabel(\"Latitude\")"
   ]
  },
  {
   "cell_type": "markdown",
   "metadata": {},
   "source": [
    "#### Latitude vs. Humidity Plot"
   ]
  },
  {
   "cell_type": "code",
   "execution_count": 86,
   "metadata": {},
   "outputs": [
    {
     "data": {
      "text/plain": [
       "Text(0,0.5,'Humidity %')"
      ]
     },
     "execution_count": 86,
     "metadata": {},
     "output_type": "execute_result"
    },
    {
     "data": {
      "image/png": "[encoded data removed]",
      "text/plain": [
       "<Figure size 432x288 with 1 Axes>"
      ]
     },
     "metadata": {
      "needs_background": "light"
     },
     "output_type": "display_data"
    }
   ],
   "source": [
    "plt.scatter(data_df[\"Lat\"],data_df[\"Humidity\"],c=\"lightblue\",edgecolor='black')\n",
    "plt.title(f\"City Latitude vs Humidity ({date})\")\n",
    "plt.xlabel(\"Latitude\")\n",
    "plt.ylabel(\"Humidity %\")\n"
   ]
  },
  {
   "cell_type": "markdown",
   "metadata": {},
   "source": [
    "#### Latitude vs. Cloudiness Plot"
   ]
  },
  {
   "cell_type": "code",
   "execution_count": 87,
   "metadata": {},
   "outputs": [
    {
     "data": {
      "text/plain": [
       "Text(0,0.5,'Cloudiness %')"
      ]
     },
     "execution_count": 87,
     "metadata": {},
     "output_type": "execute_result"
    },
    {
     "data": {
      "image/png": "[encoded data removed]",
      "text/plain": [
       "<Figure size 432x288 with 1 Axes>"
      ]
     },
     "metadata": {
      "needs_background": "light"
     },
     "output_type": "display_data"
    }
   ],
   "source": [
    "plt.scatter(data_df[\"Lat\"],data_df[\"Cloudiness\"],c=\"lightblue\",edgecolor='black')\n",
    "plt.title(f\"City Latitude vs Cloudiness({date})\")\n",
    "plt.xlabel(\"Latitude\")\n",
    "plt.ylabel(\"Cloudiness %\")\n"
   ]
  },
  {
   "cell_type": "markdown",
   "metadata": {},
   "source": [
    "#### Latitude vs. Wind Speed Plot"
   ]
  },
  {
   "cell_type": "code",
   "execution_count": 88,
   "metadata": {},
   "outputs": [
    {
     "data": {
      "text/plain": [
       "Text(0,0.5,'Wind Speed(mph)')"
      ]
     },
     "execution_count": 88,
     "metadata": {},
     "output_type": "execute_result"
    },
    {
     "data": {
      "image/png": "[encoded data removed]",
      "text/plain": [
       "<Figure size 432x288 with 1 Axes>"
      ]
     },
     "metadata": {
      "needs_background": "light"
     },
     "output_type": "display_data"
    }
   ],
   "source": [
    "plt.scatter(data_df[\"Lat\"],data_df[\"Wind Speed\"],c=\"lightblue\",edgecolor='black')\n",
    "plt.title(f\"City Latitude vs Wind Speed ({date})\")\n",
    "plt.xlabel(\"Latitude\")\n",
    "plt.ylabel(\"Wind Speed(mph)\")\n"
   ]
  },
  {
   "cell_type": "markdown",
   "metadata": {},
   "source": [
    "OBSERVATIONS->\n",
    "1: In my first observation summers in southern hemisphere are hotter than northen hemisphere .\n",
    "    \n",
    "2: Near the equater relative humidity tend to be high.\n",
    "    \n",
    "3: My observation for cloudiness is that it does not depend on latitude.\n",
    "    \n",
    "4: Very few cities have average wind speed of over 7 (mph) \n"
   ]
  },
  {
   "cell_type": "code",
   "execution_count": null,
   "metadata": {},
   "outputs": [],
   "source": []
  }
 ],
 "metadata": {
  "anaconda-cloud": {},
  "kernelspec": {
   "display_name": "Python 3",
   "language": "python",
   "name": "python3"
  },
  "language_info": {
   "codemirror_mode": {
    "name": "ipython",
    "version": 3
   },
   "file_extension": ".py",
   "mimetype": "text/x-python",
   "name": "python",
   "nbconvert_exporter": "python",
   "pygments_lexer": "ipython3",
   "version": "3.7.0"
  }
 },
 "nbformat": 4,
 "nbformat_minor": 2
}
